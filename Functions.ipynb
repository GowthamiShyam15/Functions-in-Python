{
 "cells": [
  {
   "cell_type": "markdown",
   "id": "8e08cd6f",
   "metadata": {},
   "source": [
    "# Functions"
   ]
  },
  {
   "cell_type": "code",
   "execution_count": 1,
   "id": "e0c8984a",
   "metadata": {},
   "outputs": [
    {
     "name": "stdout",
     "output_type": "stream",
     "text": [
      "Welcome to Online Course\n",
      "For Python Programming\n",
      "On saturday and sunday at 12:00pm-2:00pm\n"
     ]
    }
   ],
   "source": [
    "print(\"Welcome to Online Course\")\n",
    "print(\"For Python Programming\")\n",
    "print(\"On saturday and sunday at 12:00pm-2:00pm\")"
   ]
  },
  {
   "cell_type": "code",
   "execution_count": 2,
   "id": "6469d341",
   "metadata": {},
   "outputs": [
    {
     "name": "stdout",
     "output_type": "stream",
     "text": [
      "90\n",
      "\n",
      "Welcome to Online Course\n",
      "For Python Programming\n",
      "On saturday and sunday at 12:00pm-2:00pm\n",
      "\n",
      "204\n",
      "\n",
      "Welcome to Online Course\n",
      "For Python Programming\n",
      "On saturday and sunday at 12:00pm-2:00pm\n"
     ]
    }
   ],
   "source": [
    "#addition\n",
    "print(12+78)\n",
    "print()\n",
    "print(\"Welcome to Online Course\")\n",
    "print(\"For Python Programming\")\n",
    "print(\"On saturday and sunday at 12:00pm-2:00pm\")\n",
    "print()\n",
    "print(34*6)\n",
    "print()\n",
    "print(\"Welcome to Online Course\")\n",
    "print(\"For Python Programming\")\n",
    "print(\"On saturday and sunday at 12:00pm-2:00pm\")"
   ]
  },
  {
   "cell_type": "code",
   "execution_count": 3,
   "id": "7e1d40da",
   "metadata": {},
   "outputs": [],
   "source": [
    "#create a function\n",
    "\n",
    "def display(): #without argument\n",
    "    print(\"Welcome to Online Course\")\n",
    "    print(\"For Python Programming\")\n",
    "    print(\"On saturday and sunday at 12:00pm-2:00pm\")"
   ]
  },
  {
   "cell_type": "code",
   "execution_count": 4,
   "id": "6531e43e",
   "metadata": {},
   "outputs": [
    {
     "name": "stdout",
     "output_type": "stream",
     "text": [
      "Welcome to Online Course\n",
      "For Python Programming\n",
      "On saturday and sunday at 12:00pm-2:00pm\n"
     ]
    }
   ],
   "source": [
    "#calling the function\n",
    "\n",
    "display()"
   ]
  },
  {
   "cell_type": "code",
   "execution_count": 5,
   "id": "91be048b",
   "metadata": {},
   "outputs": [
    {
     "name": "stdout",
     "output_type": "stream",
     "text": [
      "90\n",
      "\n",
      "Welcome to Online Course\n",
      "For Python Programming\n",
      "On saturday and sunday at 12:00pm-2:00pm\n",
      "\n",
      "204\n",
      "\n",
      "Welcome to Online Course\n",
      "For Python Programming\n",
      "On saturday and sunday at 12:00pm-2:00pm\n"
     ]
    }
   ],
   "source": [
    "#addition\n",
    "print(12+78)\n",
    "print()\n",
    "display()\n",
    "print()\n",
    "print(34*6)\n",
    "print()\n",
    "display()"
   ]
  },
  {
   "cell_type": "markdown",
   "id": "2c9eaefb",
   "metadata": {},
   "source": [
    "# Types of arguments"
   ]
  },
  {
   "cell_type": "markdown",
   "id": "2231d955",
   "metadata": {},
   "source": [
    "1. Required Arguments\n",
    "2. Keyword Arguments\n",
    "3. Default Arguments\n",
    "4. Variable Arguments"
   ]
  },
  {
   "cell_type": "code",
   "execution_count": 6,
   "id": "36358efe",
   "metadata": {},
   "outputs": [
    {
     "name": "stdout",
     "output_type": "stream",
     "text": [
      "my name is warner\n",
      "my age is 23\n"
     ]
    }
   ],
   "source": [
    "#Required Arguments\n",
    "\n",
    "def disp(name, age):  #with arguments\n",
    "    print(\"my name is\", name)\n",
    "    print(\"my age is\", age)\n",
    "disp(\"warner\",23)"
   ]
  },
  {
   "cell_type": "code",
   "execution_count": 7,
   "id": "81da9fea",
   "metadata": {},
   "outputs": [
    {
     "name": "stdout",
     "output_type": "stream",
     "text": [
      "my name is Ravi\n",
      "my age is 67\n"
     ]
    }
   ],
   "source": [
    "#Keyword Arguments\n",
    "\n",
    "def disp(name, age):  #with arguments\n",
    "    print(\"my name is\", name)\n",
    "    print(\"my age is\", age)\n",
    "disp(age=67,name=\"Ravi\")"
   ]
  },
  {
   "cell_type": "code",
   "execution_count": 8,
   "id": "14e09075",
   "metadata": {},
   "outputs": [
    {
     "name": "stdout",
     "output_type": "stream",
     "text": [
      "my name is farooq\n",
      "my age is 34\n"
     ]
    }
   ],
   "source": [
    "#Default Arguments\n",
    "\n",
    "def disp(name=\"sai\",age=34):\n",
    "    print(\"my name is\", name)\n",
    "    print(\"my age is\", age)\n",
    "disp(\"farooq\")"
   ]
  },
  {
   "cell_type": "code",
   "execution_count": 9,
   "id": "94671ec5",
   "metadata": {},
   "outputs": [
    {
     "name": "stdout",
     "output_type": "stream",
     "text": [
      "('science', 'english', 'maths', 'hindi')\n"
     ]
    }
   ],
   "source": [
    "# Variable Arguments-> Arbitrary (No.of values for one argument)\n",
    "\n",
    "def course(*subjects):\n",
    "    print(subjects)\n",
    "    \n",
    "course(\"science\",\"english\",\"maths\",\"hindi\")"
   ]
  },
  {
   "cell_type": "markdown",
   "id": "54693bd8",
   "metadata": {},
   "source": [
    "# Types of Variables"
   ]
  },
  {
   "cell_type": "markdown",
   "id": "02e64c68",
   "metadata": {},
   "source": [
    "- Local Variables\n",
    "- Global Variables"
   ]
  },
  {
   "cell_type": "code",
   "execution_count": 10,
   "id": "c35da69c",
   "metadata": {},
   "outputs": [
    {
     "name": "stdout",
     "output_type": "stream",
     "text": [
      "hello world\n",
      "10\n",
      "40\n",
      "out of the function\n"
     ]
    }
   ],
   "source": [
    "print(\"hello world\")\n",
    "\n",
    "x1 = 20  #global variable\n",
    "def dis():\n",
    "    a1 = 10  #local variable\n",
    "    print(a1)\n",
    "\n",
    "dis()\n",
    "x1 = 40 #local variable\n",
    "print(x1) \n",
    "print(\"out of the function\")"
   ]
  },
  {
   "cell_type": "markdown",
   "id": "39a02fc6",
   "metadata": {},
   "source": [
    "# return"
   ]
  },
  {
   "cell_type": "code",
   "execution_count": 11,
   "id": "a4f46fe8",
   "metadata": {},
   "outputs": [],
   "source": [
    "def display(): #without argument\n",
    "    print(\"For Python Programming\")\n",
    "    return \"On saturday and sunday at 12:00pm-2:00pm\"\n",
    "    return \"Welcome to Online Course\"\n",
    "   \n",
    "    "
   ]
  },
  {
   "cell_type": "code",
   "execution_count": 12,
   "id": "b53f920e",
   "metadata": {},
   "outputs": [
    {
     "name": "stdout",
     "output_type": "stream",
     "text": [
      "For Python Programming\n",
      "On saturday and sunday at 12:00pm-2:00pm\n",
      "hello world\n"
     ]
    }
   ],
   "source": [
    "print(display())\n",
    "print(\"hello world\")"
   ]
  },
  {
   "cell_type": "markdown",
   "id": "d5e614fd",
   "metadata": {},
   "source": [
    "# Recursion Function"
   ]
  },
  {
   "cell_type": "code",
   "execution_count": 13,
   "id": "45631b33",
   "metadata": {},
   "outputs": [
    {
     "name": "stdout",
     "output_type": "stream",
     "text": [
      "enter n value:7\n",
      "5040\n"
     ]
    }
   ],
   "source": [
    "#factorial->4!\n",
    "\n",
    "def fact(n): #4/3/2/1\n",
    "    if n == 1: #1==1\n",
    "        return 1\n",
    "    else:\n",
    "        return n*fact(n-1)  #12*2*1\n",
    "\n",
    "x = int(input(\"enter n value:\"))\n",
    "print(fact(x))"
   ]
  },
  {
   "cell_type": "code",
   "execution_count": 14,
   "id": "2ba1c287",
   "metadata": {},
   "outputs": [
    {
     "name": "stdout",
     "output_type": "stream",
     "text": [
      "enter n value:5\n",
      "0 1 1 2 3 5 "
     ]
    }
   ],
   "source": [
    "#fibonnacci series\n",
    "#f(0)=0,f(1)=1,........f(n)=f(n-1)+f(n-2)\n",
    "\n",
    "def fibonnacci(n):\n",
    "    if n == 0:\n",
    "        return 0\n",
    "    elif n == 1:\n",
    "        return 1\n",
    "    else:\n",
    "        return fibonnacci(n-1)+fibonnacci(n-2)\n",
    "\n",
    "i = int(input(\"enter n value:\"))\n",
    "for i in range(0,i+1):\n",
    "    print(fibonnacci(i),end=\" \")"
   ]
  },
  {
   "cell_type": "code",
   "execution_count": 15,
   "id": "11fe9d34",
   "metadata": {},
   "outputs": [
    {
     "name": "stdout",
     "output_type": "stream",
     "text": [
      "enter n value:4\n",
      "3\n"
     ]
    }
   ],
   "source": [
    "#fibonnacci->fib(5)\n",
    "\n",
    "def fib(n): \n",
    "    if n == 1 or n == 2: #1==1\n",
    "        return 1\n",
    "    else:\n",
    "        return fib(n-1)+fib(n-2)  \n",
    "\n",
    "x = int(input(\"enter n value:\"))\n",
    "print(fib(x))"
   ]
  },
  {
   "cell_type": "markdown",
   "id": "85cf3856",
   "metadata": {},
   "source": [
    "# Lambda Function"
   ]
  },
  {
   "cell_type": "markdown",
   "id": "32722980",
   "metadata": {},
   "source": [
    "- Anonymous Function.\n",
    "- created by \"lambda\"\n",
    "- single-line function.\n",
    "- No name .\n",
    "- syntax:\n",
    "\n",
    "        lambda arguments:expression\n",
    "- returns only one expression."
   ]
  },
  {
   "cell_type": "code",
   "execution_count": 16,
   "id": "99f01b0f",
   "metadata": {},
   "outputs": [
    {
     "name": "stdout",
     "output_type": "stream",
     "text": [
      "14\n"
     ]
    }
   ],
   "source": [
    "#add two numbers using function\n",
    "\n",
    "def add(a, b):\n",
    "    print(a+b)\n",
    "\n",
    "add(12,2)"
   ]
  },
  {
   "cell_type": "code",
   "execution_count": 17,
   "id": "bb637809",
   "metadata": {},
   "outputs": [
    {
     "name": "stdout",
     "output_type": "stream",
     "text": [
      "14\n"
     ]
    }
   ],
   "source": [
    "#add two numbers using lambda function\n",
    "\n",
    "x = lambda a,b:a+b\n",
    "print(x(12,2))"
   ]
  },
  {
   "cell_type": "code",
   "execution_count": 18,
   "id": "31713798",
   "metadata": {},
   "outputs": [],
   "source": [
    "#map()->map(lambda x:x**2, l) \n",
    "#filter()"
   ]
  },
  {
   "cell_type": "code",
   "execution_count": 19,
   "id": "5c5afbe8",
   "metadata": {},
   "outputs": [
    {
     "name": "stdout",
     "output_type": "stream",
     "text": [
      "[16, 25, 49, 4, 64, 9]\n",
      "\n",
      "[16, 25, 49, 4, 64, 9]\n",
      "\n",
      "[16, 25, 49, 4, 64, 9]\n"
     ]
    }
   ],
   "source": [
    "#create a new list where it has squares of the given list using lambda function.\n",
    "\n",
    "\n",
    "#normal\n",
    "l = [4,5,7,2,8,3]\n",
    "new_list = []\n",
    "for i in l:\n",
    "    new_list.append(i**2)\n",
    "print(new_list)\n",
    "\n",
    "print()\n",
    "\n",
    "#list comprehension\n",
    "\n",
    "l = [4,5,7,2,8,3]\n",
    "new_list = [i**2 for i in l]\n",
    "print(new_list)\n",
    "\n",
    "print()\n",
    "\n",
    "#lambda function\n",
    "\n",
    "l = [4,5,7,2,8,3]\n",
    "\n",
    "new_list = list(map(lambda x:x**2, l))\n",
    "print(new_list)\n"
   ]
  },
  {
   "cell_type": "code",
   "execution_count": 20,
   "id": "4760e9eb",
   "metadata": {},
   "outputs": [
    {
     "name": "stdout",
     "output_type": "stream",
     "text": [
      "[4, 2, 8]\n"
     ]
    }
   ],
   "source": [
    "#create a new list where it has even numbers of the given list using lambda function.\n",
    "\n",
    "l = [4,5,7,2,8,3]\n",
    "new_list = list(filter(lambda x:x%2==0, l))\n",
    "print(new_list)"
   ]
  },
  {
   "cell_type": "code",
   "execution_count": 21,
   "id": "5cfc0541",
   "metadata": {},
   "outputs": [
    {
     "name": "stdout",
     "output_type": "stream",
     "text": [
      "[True, False, False, True, True, False]\n"
     ]
    }
   ],
   "source": [
    "l = [4,5,7,2,8,3]\n",
    "new_list = list(map(lambda x:x%2==0, l))\n",
    "print(new_list)"
   ]
  },
  {
   "cell_type": "code",
   "execution_count": null,
   "id": "ea1be4f5",
   "metadata": {},
   "outputs": [],
   "source": []
  }
 ],
 "metadata": {
  "kernelspec": {
   "display_name": "Python 3 (ipykernel)",
   "language": "python",
   "name": "python3"
  },
  "language_info": {
   "codemirror_mode": {
    "name": "ipython",
    "version": 3
   },
   "file_extension": ".py",
   "mimetype": "text/x-python",
   "name": "python",
   "nbconvert_exporter": "python",
   "pygments_lexer": "ipython3",
   "version": "3.10.4"
  }
 },
 "nbformat": 4,
 "nbformat_minor": 5
}
